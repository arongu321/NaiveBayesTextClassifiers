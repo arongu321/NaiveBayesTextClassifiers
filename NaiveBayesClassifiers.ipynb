{
 "cells": [
  {
   "cell_type": "markdown",
   "id": "bc7f255d-4b09-4d1d-81b5-fc25783bb432",
   "metadata": {},
   "source": [
    "# Naive Bayes Classifier Models on Text Data\n",
    "## Author: Aron Gu\n",
    "## Date: November 9, 2024"
   ]
  },
  {
   "cell_type": "markdown",
   "id": "4b4959a8-c42b-40f7-bcb7-1ff1a9311a93",
   "metadata": {},
   "source": [
    "## Import Libraries"
   ]
  },
  {
   "cell_type": "code",
   "execution_count": 483,
   "id": "99ef7921-eca4-49ca-95f8-198dabbb5541",
   "metadata": {},
   "outputs": [],
   "source": [
    "import pandas as pd\n",
    "import numpy as np\n",
    "import matplotlib as plt\n",
    "import seaborn as sns\n",
    "from nltk.corpus import stopwords\n",
    "from sklearn.model_selection import train_test_split\n",
    "from sklearn.feature_extraction.text import CountVectorizer, TfidfVectorizer\n",
    "from sklearn.naive_bayes import BernoulliNB, MultinomialNB, ComplementNB\n",
    "from sklearn.metrics import classification_report, f1_score, accuracy_score\n",
    "import re"
   ]
  },
  {
   "cell_type": "markdown",
   "id": "a7fa5a91-a5c6-48b9-a2b4-3b2811a2be71",
   "metadata": {},
   "source": [
    "## Load Text Dataset"
   ]
  },
  {
   "cell_type": "code",
   "execution_count": 484,
   "id": "03d01ad8-1d8d-4403-8673-d5c186e83a02",
   "metadata": {},
   "outputs": [],
   "source": [
    "text_data = pd.read_csv('valid.csv')"
   ]
  },
  {
   "cell_type": "markdown",
   "id": "0b3d7c06-e592-4727-9b03-bdd3b032be7d",
   "metadata": {},
   "source": [
    "## Dataset Info"
   ]
  },
  {
   "cell_type": "code",
   "execution_count": 485,
   "id": "816a3337-f3d1-4716-803a-ca8d1bbda0d4",
   "metadata": {},
   "outputs": [
    {
     "data": {
      "text/html": [
       "<div>\n",
       "<style scoped>\n",
       "    .dataframe tbody tr th:only-of-type {\n",
       "        vertical-align: middle;\n",
       "    }\n",
       "\n",
       "    .dataframe tbody tr th {\n",
       "        vertical-align: top;\n",
       "    }\n",
       "\n",
       "    .dataframe thead th {\n",
       "        text-align: right;\n",
       "    }\n",
       "</style>\n",
       "<table border=\"1\" class=\"dataframe\">\n",
       "  <thead>\n",
       "    <tr style=\"text-align: right;\">\n",
       "      <th></th>\n",
       "      <th>id</th>\n",
       "      <th>text</th>\n",
       "      <th>label</th>\n",
       "    </tr>\n",
       "  </thead>\n",
       "  <tbody>\n",
       "    <tr>\n",
       "      <th>0</th>\n",
       "      <td>0</td>\n",
       "      <td>We started giving this to my 5 year old Labrad...</td>\n",
       "      <td>dogs</td>\n",
       "    </tr>\n",
       "    <tr>\n",
       "      <th>1</th>\n",
       "      <td>1</td>\n",
       "      <td>This product is easy to set up and use. I have...</td>\n",
       "      <td>dogs</td>\n",
       "    </tr>\n",
       "    <tr>\n",
       "      <th>2</th>\n",
       "      <td>2</td>\n",
       "      <td>my dog has nerves and wants to itch and chew.....</td>\n",
       "      <td>dogs</td>\n",
       "    </tr>\n",
       "    <tr>\n",
       "      <th>3</th>\n",
       "      <td>3</td>\n",
       "      <td>the breeded gave us a can of Nupro when we too...</td>\n",
       "      <td>dogs</td>\n",
       "    </tr>\n",
       "    <tr>\n",
       "      <th>4</th>\n",
       "      <td>4</td>\n",
       "      <td>Very study, well made poop bag. Easy to open a...</td>\n",
       "      <td>dogs</td>\n",
       "    </tr>\n",
       "    <tr>\n",
       "      <th>5</th>\n",
       "      <td>5</td>\n",
       "      <td>Perfect size for 2 cats. It's made out of stur...</td>\n",
       "      <td>cats</td>\n",
       "    </tr>\n",
       "    <tr>\n",
       "      <th>6</th>\n",
       "      <td>6</td>\n",
       "      <td>Overpriced for the size. I was expecting a muc...</td>\n",
       "      <td>dogs</td>\n",
       "    </tr>\n",
       "    <tr>\n",
       "      <th>7</th>\n",
       "      <td>7</td>\n",
       "      <td>Our dog is usually a nibbler, but not with thi...</td>\n",
       "      <td>dogs</td>\n",
       "    </tr>\n",
       "    <tr>\n",
       "      <th>8</th>\n",
       "      <td>8</td>\n",
       "      <td>My dogs love these! I give them either as stan...</td>\n",
       "      <td>dogs</td>\n",
       "    </tr>\n",
       "    <tr>\n",
       "      <th>9</th>\n",
       "      <td>9</td>\n",
       "      <td>My mom gave me one of these for my cats as I h...</td>\n",
       "      <td>cats</td>\n",
       "    </tr>\n",
       "    <tr>\n",
       "      <th>10</th>\n",
       "      <td>10</td>\n",
       "      <td>Highly recommended by my vet. I do feel this s...</td>\n",
       "      <td>cats</td>\n",
       "    </tr>\n",
       "    <tr>\n",
       "      <th>11</th>\n",
       "      <td>11</td>\n",
       "      <td>This is the second coolaroo bed that I've purc...</td>\n",
       "      <td>cats</td>\n",
       "    </tr>\n",
       "    <tr>\n",
       "      <th>12</th>\n",
       "      <td>12</td>\n",
       "      <td>Made in USA - seems well made, but I have been...</td>\n",
       "      <td>cats</td>\n",
       "    </tr>\n",
       "    <tr>\n",
       "      <th>13</th>\n",
       "      <td>13</td>\n",
       "      <td>I have to say, I was not so sure about this pr...</td>\n",
       "      <td>dogs</td>\n",
       "    </tr>\n",
       "    <tr>\n",
       "      <th>14</th>\n",
       "      <td>14</td>\n",
       "      <td>This is the only type of trimmer I have used f...</td>\n",
       "      <td>cats</td>\n",
       "    </tr>\n",
       "    <tr>\n",
       "      <th>15</th>\n",
       "      <td>15</td>\n",
       "      <td>i only began with thus tabs a few weeks ago bu...</td>\n",
       "      <td>dogs</td>\n",
       "    </tr>\n",
       "    <tr>\n",
       "      <th>16</th>\n",
       "      <td>16</td>\n",
       "      <td>Our 12 year old lab does very well when he tak...</td>\n",
       "      <td>dogs</td>\n",
       "    </tr>\n",
       "    <tr>\n",
       "      <th>17</th>\n",
       "      <td>17</td>\n",
       "      <td>My dog is not interested in this bone at all. ...</td>\n",
       "      <td>dogs</td>\n",
       "    </tr>\n",
       "    <tr>\n",
       "      <th>18</th>\n",
       "      <td>18</td>\n",
       "      <td>Have younger dogs that have places to go... bu...</td>\n",
       "      <td>dogs</td>\n",
       "    </tr>\n",
       "    <tr>\n",
       "      <th>19</th>\n",
       "      <td>19</td>\n",
       "      <td>My Shih Tzu love it, and so do I because both ...</td>\n",
       "      <td>dogs</td>\n",
       "    </tr>\n",
       "    <tr>\n",
       "      <th>20</th>\n",
       "      <td>21</td>\n",
       "      <td>okay, i adopted a dog from the shelter, and af...</td>\n",
       "      <td>dogs</td>\n",
       "    </tr>\n",
       "    <tr>\n",
       "      <th>21</th>\n",
       "      <td>22</td>\n",
       "      <td>Works good. Way better that a shock collar. My...</td>\n",
       "      <td>dogs</td>\n",
       "    </tr>\n",
       "    <tr>\n",
       "      <th>22</th>\n",
       "      <td>23</td>\n",
       "      <td>I was having prob getting strays to go in lg d...</td>\n",
       "      <td>dogs</td>\n",
       "    </tr>\n",
       "    <tr>\n",
       "      <th>23</th>\n",
       "      <td>24</td>\n",
       "      <td>One of my cats has very silky short-medium len...</td>\n",
       "      <td>cats</td>\n",
       "    </tr>\n",
       "    <tr>\n",
       "      <th>24</th>\n",
       "      <td>25</td>\n",
       "      <td>I would encourage everyone interested in this ...</td>\n",
       "      <td>cats</td>\n",
       "    </tr>\n",
       "    <tr>\n",
       "      <th>25</th>\n",
       "      <td>26</td>\n",
       "      <td>This box is a nice sturdy plastic, but unfortu...</td>\n",
       "      <td>cats</td>\n",
       "    </tr>\n",
       "    <tr>\n",
       "      <th>26</th>\n",
       "      <td>27</td>\n",
       "      <td>works great ....Ethical 3-1/2-Inch Pet Food Ca...</td>\n",
       "      <td>cats</td>\n",
       "    </tr>\n",
       "    <tr>\n",
       "      <th>27</th>\n",
       "      <td>28</td>\n",
       "      <td>This box is wayyyyy expensive for what it real...</td>\n",
       "      <td>cats</td>\n",
       "    </tr>\n",
       "    <tr>\n",
       "      <th>28</th>\n",
       "      <td>29</td>\n",
       "      <td>My two cats love this bed ... I realize cats c...</td>\n",
       "      <td>dogs</td>\n",
       "    </tr>\n",
       "    <tr>\n",
       "      <th>29</th>\n",
       "      <td>30</td>\n",
       "      <td>Georgia, our wirehair fox terrier learned how ...</td>\n",
       "      <td>dogs</td>\n",
       "    </tr>\n",
       "  </tbody>\n",
       "</table>\n",
       "</div>"
      ],
      "text/plain": [
       "    id                                               text label\n",
       "0    0  We started giving this to my 5 year old Labrad...  dogs\n",
       "1    1  This product is easy to set up and use. I have...  dogs\n",
       "2    2  my dog has nerves and wants to itch and chew.....  dogs\n",
       "3    3  the breeded gave us a can of Nupro when we too...  dogs\n",
       "4    4  Very study, well made poop bag. Easy to open a...  dogs\n",
       "5    5  Perfect size for 2 cats. It's made out of stur...  cats\n",
       "6    6  Overpriced for the size. I was expecting a muc...  dogs\n",
       "7    7  Our dog is usually a nibbler, but not with thi...  dogs\n",
       "8    8  My dogs love these! I give them either as stan...  dogs\n",
       "9    9  My mom gave me one of these for my cats as I h...  cats\n",
       "10  10  Highly recommended by my vet. I do feel this s...  cats\n",
       "11  11  This is the second coolaroo bed that I've purc...  cats\n",
       "12  12  Made in USA - seems well made, but I have been...  cats\n",
       "13  13  I have to say, I was not so sure about this pr...  dogs\n",
       "14  14  This is the only type of trimmer I have used f...  cats\n",
       "15  15  i only began with thus tabs a few weeks ago bu...  dogs\n",
       "16  16  Our 12 year old lab does very well when he tak...  dogs\n",
       "17  17  My dog is not interested in this bone at all. ...  dogs\n",
       "18  18  Have younger dogs that have places to go... bu...  dogs\n",
       "19  19  My Shih Tzu love it, and so do I because both ...  dogs\n",
       "20  21  okay, i adopted a dog from the shelter, and af...  dogs\n",
       "21  22  Works good. Way better that a shock collar. My...  dogs\n",
       "22  23  I was having prob getting strays to go in lg d...  dogs\n",
       "23  24  One of my cats has very silky short-medium len...  cats\n",
       "24  25  I would encourage everyone interested in this ...  cats\n",
       "25  26  This box is a nice sturdy plastic, but unfortu...  cats\n",
       "26  27  works great ....Ethical 3-1/2-Inch Pet Food Ca...  cats\n",
       "27  28  This box is wayyyyy expensive for what it real...  cats\n",
       "28  29  My two cats love this bed ... I realize cats c...  dogs\n",
       "29  30  Georgia, our wirehair fox terrier learned how ...  dogs"
      ]
     },
     "execution_count": 485,
     "metadata": {},
     "output_type": "execute_result"
    }
   ],
   "source": [
    "# Display first 30 rows of dataset\n",
    "text_data.head(30)"
   ]
  },
  {
   "cell_type": "code",
   "execution_count": 486,
   "id": "6edaa258-376b-423f-9b20-a1a4a53e9f95",
   "metadata": {},
   "outputs": [
    {
     "name": "stdout",
     "output_type": "stream",
     "text": [
      "<class 'pandas.core.frame.DataFrame'>\n",
      "RangeIndex: 15499 entries, 0 to 15498\n",
      "Data columns (total 3 columns):\n",
      " #   Column  Non-Null Count  Dtype \n",
      "---  ------  --------------  ----- \n",
      " 0   id      15499 non-null  int64 \n",
      " 1   text    15499 non-null  object\n",
      " 2   label   15499 non-null  object\n",
      "dtypes: int64(1), object(2)\n",
      "memory usage: 363.4+ KB\n"
     ]
    }
   ],
   "source": [
    "# Display info on dataset\n",
    "text_data.info()"
   ]
  },
  {
   "cell_type": "code",
   "execution_count": 487,
   "id": "79f24f80-5e93-4c84-99c7-923735469c70",
   "metadata": {},
   "outputs": [
    {
     "data": {
      "text/plain": [
       "count     15499\n",
       "unique        2\n",
       "top        dogs\n",
       "freq       9333\n",
       "Name: label, dtype: object"
      ]
     },
     "execution_count": 487,
     "metadata": {},
     "output_type": "execute_result"
    }
   ],
   "source": [
    "# Get statistics on labels for dataset\n",
    "text_data['label'].describe()"
   ]
  },
  {
   "cell_type": "markdown",
   "id": "6cf56e30-10db-4564-a864-f14019464a30",
   "metadata": {},
   "source": [
    "## Preprocess Text in Dataset"
   ]
  },
  {
   "cell_type": "code",
   "execution_count": 488,
   "id": "be0496a0-10ac-4be5-b113-81473e9fdf69",
   "metadata": {},
   "outputs": [
    {
     "data": {
      "text/html": [
       "<div>\n",
       "<style scoped>\n",
       "    .dataframe tbody tr th:only-of-type {\n",
       "        vertical-align: middle;\n",
       "    }\n",
       "\n",
       "    .dataframe tbody tr th {\n",
       "        vertical-align: top;\n",
       "    }\n",
       "\n",
       "    .dataframe thead th {\n",
       "        text-align: right;\n",
       "    }\n",
       "</style>\n",
       "<table border=\"1\" class=\"dataframe\">\n",
       "  <thead>\n",
       "    <tr style=\"text-align: right;\">\n",
       "      <th></th>\n",
       "      <th>id</th>\n",
       "      <th>text</th>\n",
       "      <th>label</th>\n",
       "      <th>processed_text</th>\n",
       "    </tr>\n",
       "  </thead>\n",
       "  <tbody>\n",
       "    <tr>\n",
       "      <th>0</th>\n",
       "      <td>0</td>\n",
       "      <td>We started giving this to my 5 year old Labrad...</td>\n",
       "      <td>dogs</td>\n",
       "      <td>we started giving this to my  year old labrado...</td>\n",
       "    </tr>\n",
       "    <tr>\n",
       "      <th>1</th>\n",
       "      <td>1</td>\n",
       "      <td>This product is easy to set up and use. I have...</td>\n",
       "      <td>dogs</td>\n",
       "      <td>this product is easy to set up and use i have ...</td>\n",
       "    </tr>\n",
       "    <tr>\n",
       "      <th>2</th>\n",
       "      <td>2</td>\n",
       "      <td>my dog has nerves and wants to itch and chew.....</td>\n",
       "      <td>dogs</td>\n",
       "      <td>my dog has nerves and wants to itch and chewth...</td>\n",
       "    </tr>\n",
       "    <tr>\n",
       "      <th>3</th>\n",
       "      <td>3</td>\n",
       "      <td>the breeded gave us a can of Nupro when we too...</td>\n",
       "      <td>dogs</td>\n",
       "      <td>the breeded gave us a can of nupro when we too...</td>\n",
       "    </tr>\n",
       "    <tr>\n",
       "      <th>4</th>\n",
       "      <td>4</td>\n",
       "      <td>Very study, well made poop bag. Easy to open a...</td>\n",
       "      <td>dogs</td>\n",
       "      <td>very study well made poop bag easy to open and...</td>\n",
       "    </tr>\n",
       "    <tr>\n",
       "      <th>5</th>\n",
       "      <td>5</td>\n",
       "      <td>Perfect size for 2 cats. It's made out of stur...</td>\n",
       "      <td>cats</td>\n",
       "      <td>perfect size for  cats its made out of sturdy ...</td>\n",
       "    </tr>\n",
       "    <tr>\n",
       "      <th>6</th>\n",
       "      <td>6</td>\n",
       "      <td>Overpriced for the size. I was expecting a muc...</td>\n",
       "      <td>dogs</td>\n",
       "      <td>overpriced for the size i was expecting a much...</td>\n",
       "    </tr>\n",
       "    <tr>\n",
       "      <th>7</th>\n",
       "      <td>7</td>\n",
       "      <td>Our dog is usually a nibbler, but not with thi...</td>\n",
       "      <td>dogs</td>\n",
       "      <td>our dog is usually a nibbler but not with this...</td>\n",
       "    </tr>\n",
       "    <tr>\n",
       "      <th>8</th>\n",
       "      <td>8</td>\n",
       "      <td>My dogs love these! I give them either as stan...</td>\n",
       "      <td>dogs</td>\n",
       "      <td>my dogs love these i give them either as stand...</td>\n",
       "    </tr>\n",
       "    <tr>\n",
       "      <th>9</th>\n",
       "      <td>9</td>\n",
       "      <td>My mom gave me one of these for my cats as I h...</td>\n",
       "      <td>cats</td>\n",
       "      <td>my mom gave me one of these for my cats as i h...</td>\n",
       "    </tr>\n",
       "    <tr>\n",
       "      <th>10</th>\n",
       "      <td>10</td>\n",
       "      <td>Highly recommended by my vet. I do feel this s...</td>\n",
       "      <td>cats</td>\n",
       "      <td>highly recommended by my vet i do feel this su...</td>\n",
       "    </tr>\n",
       "    <tr>\n",
       "      <th>11</th>\n",
       "      <td>11</td>\n",
       "      <td>This is the second coolaroo bed that I've purc...</td>\n",
       "      <td>cats</td>\n",
       "      <td>this is the second coolaroo bed that ive purch...</td>\n",
       "    </tr>\n",
       "    <tr>\n",
       "      <th>12</th>\n",
       "      <td>12</td>\n",
       "      <td>Made in USA - seems well made, but I have been...</td>\n",
       "      <td>cats</td>\n",
       "      <td>made in usa  seems well made but i have been p...</td>\n",
       "    </tr>\n",
       "    <tr>\n",
       "      <th>13</th>\n",
       "      <td>13</td>\n",
       "      <td>I have to say, I was not so sure about this pr...</td>\n",
       "      <td>dogs</td>\n",
       "      <td>i have to say i was not so sure about this pro...</td>\n",
       "    </tr>\n",
       "    <tr>\n",
       "      <th>14</th>\n",
       "      <td>14</td>\n",
       "      <td>This is the only type of trimmer I have used f...</td>\n",
       "      <td>cats</td>\n",
       "      <td>this is the only type of trimmer i have used f...</td>\n",
       "    </tr>\n",
       "    <tr>\n",
       "      <th>15</th>\n",
       "      <td>15</td>\n",
       "      <td>i only began with thus tabs a few weeks ago bu...</td>\n",
       "      <td>dogs</td>\n",
       "      <td>i only began with thus tabs a few weeks ago bu...</td>\n",
       "    </tr>\n",
       "    <tr>\n",
       "      <th>16</th>\n",
       "      <td>16</td>\n",
       "      <td>Our 12 year old lab does very well when he tak...</td>\n",
       "      <td>dogs</td>\n",
       "      <td>our  year old lab does very well when he takes...</td>\n",
       "    </tr>\n",
       "    <tr>\n",
       "      <th>17</th>\n",
       "      <td>17</td>\n",
       "      <td>My dog is not interested in this bone at all. ...</td>\n",
       "      <td>dogs</td>\n",
       "      <td>my dog is not interested in this bone at all h...</td>\n",
       "    </tr>\n",
       "    <tr>\n",
       "      <th>18</th>\n",
       "      <td>18</td>\n",
       "      <td>Have younger dogs that have places to go... bu...</td>\n",
       "      <td>dogs</td>\n",
       "      <td>have younger dogs that have places to go but w...</td>\n",
       "    </tr>\n",
       "    <tr>\n",
       "      <th>19</th>\n",
       "      <td>19</td>\n",
       "      <td>My Shih Tzu love it, and so do I because both ...</td>\n",
       "      <td>dogs</td>\n",
       "      <td>my shih tzu love it and so do i because both m...</td>\n",
       "    </tr>\n",
       "    <tr>\n",
       "      <th>20</th>\n",
       "      <td>21</td>\n",
       "      <td>okay, i adopted a dog from the shelter, and af...</td>\n",
       "      <td>dogs</td>\n",
       "      <td>okay i adopted a dog from the shelter and afte...</td>\n",
       "    </tr>\n",
       "    <tr>\n",
       "      <th>21</th>\n",
       "      <td>22</td>\n",
       "      <td>Works good. Way better that a shock collar. My...</td>\n",
       "      <td>dogs</td>\n",
       "      <td>works good way better that a shock collar my m...</td>\n",
       "    </tr>\n",
       "    <tr>\n",
       "      <th>22</th>\n",
       "      <td>23</td>\n",
       "      <td>I was having prob getting strays to go in lg d...</td>\n",
       "      <td>dogs</td>\n",
       "      <td>i was having prob getting strays to go in lg d...</td>\n",
       "    </tr>\n",
       "    <tr>\n",
       "      <th>23</th>\n",
       "      <td>24</td>\n",
       "      <td>One of my cats has very silky short-medium len...</td>\n",
       "      <td>cats</td>\n",
       "      <td>one of my cats has very silky shortmedium leng...</td>\n",
       "    </tr>\n",
       "    <tr>\n",
       "      <th>24</th>\n",
       "      <td>25</td>\n",
       "      <td>I would encourage everyone interested in this ...</td>\n",
       "      <td>cats</td>\n",
       "      <td>i would encourage everyone interested in this ...</td>\n",
       "    </tr>\n",
       "    <tr>\n",
       "      <th>25</th>\n",
       "      <td>26</td>\n",
       "      <td>This box is a nice sturdy plastic, but unfortu...</td>\n",
       "      <td>cats</td>\n",
       "      <td>this box is a nice sturdy plastic but unfortun...</td>\n",
       "    </tr>\n",
       "    <tr>\n",
       "      <th>26</th>\n",
       "      <td>27</td>\n",
       "      <td>works great ....Ethical 3-1/2-Inch Pet Food Ca...</td>\n",
       "      <td>cats</td>\n",
       "      <td>works great ethical inch pet food can covers p...</td>\n",
       "    </tr>\n",
       "    <tr>\n",
       "      <th>27</th>\n",
       "      <td>28</td>\n",
       "      <td>This box is wayyyyy expensive for what it real...</td>\n",
       "      <td>cats</td>\n",
       "      <td>this box is wayyyyy expensive for what it real...</td>\n",
       "    </tr>\n",
       "    <tr>\n",
       "      <th>28</th>\n",
       "      <td>29</td>\n",
       "      <td>My two cats love this bed ... I realize cats c...</td>\n",
       "      <td>dogs</td>\n",
       "      <td>my two cats love this bed  i realize cats can ...</td>\n",
       "    </tr>\n",
       "    <tr>\n",
       "      <th>29</th>\n",
       "      <td>30</td>\n",
       "      <td>Georgia, our wirehair fox terrier learned how ...</td>\n",
       "      <td>dogs</td>\n",
       "      <td>georgia our wirehair fox terrier learned how t...</td>\n",
       "    </tr>\n",
       "  </tbody>\n",
       "</table>\n",
       "</div>"
      ],
      "text/plain": [
       "    id                                               text label  \\\n",
       "0    0  We started giving this to my 5 year old Labrad...  dogs   \n",
       "1    1  This product is easy to set up and use. I have...  dogs   \n",
       "2    2  my dog has nerves and wants to itch and chew.....  dogs   \n",
       "3    3  the breeded gave us a can of Nupro when we too...  dogs   \n",
       "4    4  Very study, well made poop bag. Easy to open a...  dogs   \n",
       "5    5  Perfect size for 2 cats. It's made out of stur...  cats   \n",
       "6    6  Overpriced for the size. I was expecting a muc...  dogs   \n",
       "7    7  Our dog is usually a nibbler, but not with thi...  dogs   \n",
       "8    8  My dogs love these! I give them either as stan...  dogs   \n",
       "9    9  My mom gave me one of these for my cats as I h...  cats   \n",
       "10  10  Highly recommended by my vet. I do feel this s...  cats   \n",
       "11  11  This is the second coolaroo bed that I've purc...  cats   \n",
       "12  12  Made in USA - seems well made, but I have been...  cats   \n",
       "13  13  I have to say, I was not so sure about this pr...  dogs   \n",
       "14  14  This is the only type of trimmer I have used f...  cats   \n",
       "15  15  i only began with thus tabs a few weeks ago bu...  dogs   \n",
       "16  16  Our 12 year old lab does very well when he tak...  dogs   \n",
       "17  17  My dog is not interested in this bone at all. ...  dogs   \n",
       "18  18  Have younger dogs that have places to go... bu...  dogs   \n",
       "19  19  My Shih Tzu love it, and so do I because both ...  dogs   \n",
       "20  21  okay, i adopted a dog from the shelter, and af...  dogs   \n",
       "21  22  Works good. Way better that a shock collar. My...  dogs   \n",
       "22  23  I was having prob getting strays to go in lg d...  dogs   \n",
       "23  24  One of my cats has very silky short-medium len...  cats   \n",
       "24  25  I would encourage everyone interested in this ...  cats   \n",
       "25  26  This box is a nice sturdy plastic, but unfortu...  cats   \n",
       "26  27  works great ....Ethical 3-1/2-Inch Pet Food Ca...  cats   \n",
       "27  28  This box is wayyyyy expensive for what it real...  cats   \n",
       "28  29  My two cats love this bed ... I realize cats c...  dogs   \n",
       "29  30  Georgia, our wirehair fox terrier learned how ...  dogs   \n",
       "\n",
       "                                       processed_text  \n",
       "0   we started giving this to my  year old labrado...  \n",
       "1   this product is easy to set up and use i have ...  \n",
       "2   my dog has nerves and wants to itch and chewth...  \n",
       "3   the breeded gave us a can of nupro when we too...  \n",
       "4   very study well made poop bag easy to open and...  \n",
       "5   perfect size for  cats its made out of sturdy ...  \n",
       "6   overpriced for the size i was expecting a much...  \n",
       "7   our dog is usually a nibbler but not with this...  \n",
       "8   my dogs love these i give them either as stand...  \n",
       "9   my mom gave me one of these for my cats as i h...  \n",
       "10  highly recommended by my vet i do feel this su...  \n",
       "11  this is the second coolaroo bed that ive purch...  \n",
       "12  made in usa  seems well made but i have been p...  \n",
       "13  i have to say i was not so sure about this pro...  \n",
       "14  this is the only type of trimmer i have used f...  \n",
       "15  i only began with thus tabs a few weeks ago bu...  \n",
       "16  our  year old lab does very well when he takes...  \n",
       "17  my dog is not interested in this bone at all h...  \n",
       "18  have younger dogs that have places to go but w...  \n",
       "19  my shih tzu love it and so do i because both m...  \n",
       "20  okay i adopted a dog from the shelter and afte...  \n",
       "21  works good way better that a shock collar my m...  \n",
       "22  i was having prob getting strays to go in lg d...  \n",
       "23  one of my cats has very silky shortmedium leng...  \n",
       "24  i would encourage everyone interested in this ...  \n",
       "25  this box is a nice sturdy plastic but unfortun...  \n",
       "26  works great ethical inch pet food can covers p...  \n",
       "27  this box is wayyyyy expensive for what it real...  \n",
       "28  my two cats love this bed  i realize cats can ...  \n",
       "29  georgia our wirehair fox terrier learned how t...  "
      ]
     },
     "execution_count": 488,
     "metadata": {},
     "output_type": "execute_result"
    }
   ],
   "source": [
    "# Basic text cleaning function without manual stop word removal\n",
    "def preprocess_text(text):\n",
    "    # Remove special characters, punctuation, and numbers\n",
    "    text = re.sub(r'[^A-Za-z\\s]', '', text)\n",
    "    \n",
    "    # Convert text to lowercase\n",
    "    return text.lower()\n",
    "\n",
    "# Apply preprocessing to text data\n",
    "text_data['processed_text'] = text_data['text'].apply(preprocess_text)\n",
    "text_data.head(30)"
   ]
  },
  {
   "cell_type": "markdown",
   "id": "c7d383f7-871e-456f-9b35-a75821b9b541",
   "metadata": {},
   "source": [
    "## Feature Engineering(Remove Irrelevant Features)"
   ]
  },
  {
   "cell_type": "markdown",
   "id": "32c27bc4-36e9-48f1-832c-871056e1341c",
   "metadata": {},
   "source": [
    "- Since we only will use the preprocessed text to determine the labels, the text and id columns can be removed from the dataset"
   ]
  },
  {
   "cell_type": "code",
   "execution_count": 489,
   "id": "9891df27-0b24-49c3-b488-105692f5a392",
   "metadata": {},
   "outputs": [
    {
     "data": {
      "text/html": [
       "<div>\n",
       "<style scoped>\n",
       "    .dataframe tbody tr th:only-of-type {\n",
       "        vertical-align: middle;\n",
       "    }\n",
       "\n",
       "    .dataframe tbody tr th {\n",
       "        vertical-align: top;\n",
       "    }\n",
       "\n",
       "    .dataframe thead th {\n",
       "        text-align: right;\n",
       "    }\n",
       "</style>\n",
       "<table border=\"1\" class=\"dataframe\">\n",
       "  <thead>\n",
       "    <tr style=\"text-align: right;\">\n",
       "      <th></th>\n",
       "      <th>label</th>\n",
       "      <th>processed_text</th>\n",
       "    </tr>\n",
       "  </thead>\n",
       "  <tbody>\n",
       "    <tr>\n",
       "      <th>0</th>\n",
       "      <td>dogs</td>\n",
       "      <td>we started giving this to my  year old labrado...</td>\n",
       "    </tr>\n",
       "    <tr>\n",
       "      <th>1</th>\n",
       "      <td>dogs</td>\n",
       "      <td>this product is easy to set up and use i have ...</td>\n",
       "    </tr>\n",
       "    <tr>\n",
       "      <th>2</th>\n",
       "      <td>dogs</td>\n",
       "      <td>my dog has nerves and wants to itch and chewth...</td>\n",
       "    </tr>\n",
       "    <tr>\n",
       "      <th>3</th>\n",
       "      <td>dogs</td>\n",
       "      <td>the breeded gave us a can of nupro when we too...</td>\n",
       "    </tr>\n",
       "    <tr>\n",
       "      <th>4</th>\n",
       "      <td>dogs</td>\n",
       "      <td>very study well made poop bag easy to open and...</td>\n",
       "    </tr>\n",
       "    <tr>\n",
       "      <th>5</th>\n",
       "      <td>cats</td>\n",
       "      <td>perfect size for  cats its made out of sturdy ...</td>\n",
       "    </tr>\n",
       "    <tr>\n",
       "      <th>6</th>\n",
       "      <td>dogs</td>\n",
       "      <td>overpriced for the size i was expecting a much...</td>\n",
       "    </tr>\n",
       "    <tr>\n",
       "      <th>7</th>\n",
       "      <td>dogs</td>\n",
       "      <td>our dog is usually a nibbler but not with this...</td>\n",
       "    </tr>\n",
       "    <tr>\n",
       "      <th>8</th>\n",
       "      <td>dogs</td>\n",
       "      <td>my dogs love these i give them either as stand...</td>\n",
       "    </tr>\n",
       "    <tr>\n",
       "      <th>9</th>\n",
       "      <td>cats</td>\n",
       "      <td>my mom gave me one of these for my cats as i h...</td>\n",
       "    </tr>\n",
       "    <tr>\n",
       "      <th>10</th>\n",
       "      <td>cats</td>\n",
       "      <td>highly recommended by my vet i do feel this su...</td>\n",
       "    </tr>\n",
       "    <tr>\n",
       "      <th>11</th>\n",
       "      <td>cats</td>\n",
       "      <td>this is the second coolaroo bed that ive purch...</td>\n",
       "    </tr>\n",
       "    <tr>\n",
       "      <th>12</th>\n",
       "      <td>cats</td>\n",
       "      <td>made in usa  seems well made but i have been p...</td>\n",
       "    </tr>\n",
       "    <tr>\n",
       "      <th>13</th>\n",
       "      <td>dogs</td>\n",
       "      <td>i have to say i was not so sure about this pro...</td>\n",
       "    </tr>\n",
       "    <tr>\n",
       "      <th>14</th>\n",
       "      <td>cats</td>\n",
       "      <td>this is the only type of trimmer i have used f...</td>\n",
       "    </tr>\n",
       "    <tr>\n",
       "      <th>15</th>\n",
       "      <td>dogs</td>\n",
       "      <td>i only began with thus tabs a few weeks ago bu...</td>\n",
       "    </tr>\n",
       "    <tr>\n",
       "      <th>16</th>\n",
       "      <td>dogs</td>\n",
       "      <td>our  year old lab does very well when he takes...</td>\n",
       "    </tr>\n",
       "    <tr>\n",
       "      <th>17</th>\n",
       "      <td>dogs</td>\n",
       "      <td>my dog is not interested in this bone at all h...</td>\n",
       "    </tr>\n",
       "    <tr>\n",
       "      <th>18</th>\n",
       "      <td>dogs</td>\n",
       "      <td>have younger dogs that have places to go but w...</td>\n",
       "    </tr>\n",
       "    <tr>\n",
       "      <th>19</th>\n",
       "      <td>dogs</td>\n",
       "      <td>my shih tzu love it and so do i because both m...</td>\n",
       "    </tr>\n",
       "    <tr>\n",
       "      <th>20</th>\n",
       "      <td>dogs</td>\n",
       "      <td>okay i adopted a dog from the shelter and afte...</td>\n",
       "    </tr>\n",
       "    <tr>\n",
       "      <th>21</th>\n",
       "      <td>dogs</td>\n",
       "      <td>works good way better that a shock collar my m...</td>\n",
       "    </tr>\n",
       "    <tr>\n",
       "      <th>22</th>\n",
       "      <td>dogs</td>\n",
       "      <td>i was having prob getting strays to go in lg d...</td>\n",
       "    </tr>\n",
       "    <tr>\n",
       "      <th>23</th>\n",
       "      <td>cats</td>\n",
       "      <td>one of my cats has very silky shortmedium leng...</td>\n",
       "    </tr>\n",
       "    <tr>\n",
       "      <th>24</th>\n",
       "      <td>cats</td>\n",
       "      <td>i would encourage everyone interested in this ...</td>\n",
       "    </tr>\n",
       "    <tr>\n",
       "      <th>25</th>\n",
       "      <td>cats</td>\n",
       "      <td>this box is a nice sturdy plastic but unfortun...</td>\n",
       "    </tr>\n",
       "    <tr>\n",
       "      <th>26</th>\n",
       "      <td>cats</td>\n",
       "      <td>works great ethical inch pet food can covers p...</td>\n",
       "    </tr>\n",
       "    <tr>\n",
       "      <th>27</th>\n",
       "      <td>cats</td>\n",
       "      <td>this box is wayyyyy expensive for what it real...</td>\n",
       "    </tr>\n",
       "    <tr>\n",
       "      <th>28</th>\n",
       "      <td>dogs</td>\n",
       "      <td>my two cats love this bed  i realize cats can ...</td>\n",
       "    </tr>\n",
       "    <tr>\n",
       "      <th>29</th>\n",
       "      <td>dogs</td>\n",
       "      <td>georgia our wirehair fox terrier learned how t...</td>\n",
       "    </tr>\n",
       "  </tbody>\n",
       "</table>\n",
       "</div>"
      ],
      "text/plain": [
       "   label                                     processed_text\n",
       "0   dogs  we started giving this to my  year old labrado...\n",
       "1   dogs  this product is easy to set up and use i have ...\n",
       "2   dogs  my dog has nerves and wants to itch and chewth...\n",
       "3   dogs  the breeded gave us a can of nupro when we too...\n",
       "4   dogs  very study well made poop bag easy to open and...\n",
       "5   cats  perfect size for  cats its made out of sturdy ...\n",
       "6   dogs  overpriced for the size i was expecting a much...\n",
       "7   dogs  our dog is usually a nibbler but not with this...\n",
       "8   dogs  my dogs love these i give them either as stand...\n",
       "9   cats  my mom gave me one of these for my cats as i h...\n",
       "10  cats  highly recommended by my vet i do feel this su...\n",
       "11  cats  this is the second coolaroo bed that ive purch...\n",
       "12  cats  made in usa  seems well made but i have been p...\n",
       "13  dogs  i have to say i was not so sure about this pro...\n",
       "14  cats  this is the only type of trimmer i have used f...\n",
       "15  dogs  i only began with thus tabs a few weeks ago bu...\n",
       "16  dogs  our  year old lab does very well when he takes...\n",
       "17  dogs  my dog is not interested in this bone at all h...\n",
       "18  dogs  have younger dogs that have places to go but w...\n",
       "19  dogs  my shih tzu love it and so do i because both m...\n",
       "20  dogs  okay i adopted a dog from the shelter and afte...\n",
       "21  dogs  works good way better that a shock collar my m...\n",
       "22  dogs  i was having prob getting strays to go in lg d...\n",
       "23  cats  one of my cats has very silky shortmedium leng...\n",
       "24  cats  i would encourage everyone interested in this ...\n",
       "25  cats  this box is a nice sturdy plastic but unfortun...\n",
       "26  cats  works great ethical inch pet food can covers p...\n",
       "27  cats  this box is wayyyyy expensive for what it real...\n",
       "28  dogs  my two cats love this bed  i realize cats can ...\n",
       "29  dogs  georgia our wirehair fox terrier learned how t..."
      ]
     },
     "execution_count": 489,
     "metadata": {},
     "output_type": "execute_result"
    }
   ],
   "source": [
    "# Remove text and id columns from text_data set\n",
    "text_data.drop(['id', 'text'], axis=1, inplace=True)\n",
    "text_data.head(30)"
   ]
  },
  {
   "cell_type": "markdown",
   "id": "a09aedd4-1d5b-4f83-9060-943d89093281",
   "metadata": {},
   "source": [
    "## Segreating Variables: Independent and Dependent Variables"
   ]
  },
  {
   "cell_type": "code",
   "execution_count": 490,
   "id": "4a6db8c3-e3a8-4b2e-9e3e-09841eadab3b",
   "metadata": {},
   "outputs": [],
   "source": [
    "X = text_data['processed_text']\n",
    "y = text_data['label']"
   ]
  },
  {
   "cell_type": "markdown",
   "id": "2aac9979-6264-4b14-b564-b2584b405be6",
   "metadata": {},
   "source": [
    "## Split Data into Train and Test Sets"
   ]
  },
  {
   "cell_type": "code",
   "execution_count": 491,
   "id": "0f7f0e9c-c7c9-42f9-bfbf-3c2d512702c7",
   "metadata": {},
   "outputs": [],
   "source": [
    "X_train, X_test, y_train, y_test = train_test_split(X, y, test_size=0.3, random_state=42)"
   ]
  },
  {
   "cell_type": "markdown",
   "id": "0eaf82a3-8589-489a-9a88-22cc3c4bba21",
   "metadata": {},
   "source": [
    "## Create Bag of Words for Training and Test Data(Multinomial and Complement Naive Bayes Model)"
   ]
  },
  {
   "cell_type": "code",
   "execution_count": 492,
   "id": "975e3cf6-6cc6-4466-8720-9f8d0e1d5861",
   "metadata": {},
   "outputs": [],
   "source": [
    "count_vector = CountVectorizer(stop_words='english')\n",
    "train_data = count_vector.fit_transform(X_train)\n",
    "test_data = count_vector.transform(X_test)"
   ]
  },
  {
   "cell_type": "markdown",
   "id": "f9de19ec-cab6-4c5e-967b-eac10cf1d540",
   "metadata": {},
   "source": [
    "## Create Bag of Words for Training and Test Data(Bernoulli Naive Bayes Model)"
   ]
  },
  {
   "cell_type": "code",
   "execution_count": 493,
   "id": "e26cf502-5f6d-41d6-86e8-1de99ed58193",
   "metadata": {},
   "outputs": [],
   "source": [
    "count_vector_binary = CountVectorizer(stop_words='english', binary=True)\n",
    "train_data_binary = count_vector.fit_transform(X_train)\n",
    "test_data_binary = count_vector.transform(X_test)"
   ]
  },
  {
   "cell_type": "markdown",
   "id": "3824bc0e-5889-42da-87ee-f2ec53083d13",
   "metadata": {},
   "source": [
    "## Build Multinomial Naive Bayes Model"
   ]
  },
  {
   "cell_type": "code",
   "execution_count": 494,
   "id": "58aedadc-7c5e-47a3-ab87-e6d69c7a9fca",
   "metadata": {},
   "outputs": [],
   "source": [
    "multinomial_NB_model = MultinomialNB()\n",
    "\n",
    "# Train model and make predictions on training and test data\n",
    "multinomial_NB_model.fit(train_data, y_train)\n",
    "\n",
    "y_predict_train = multinomial_NB_model.predict(train_data)\n",
    "y_predict = multinomial_NB_model.predict(test_data)"
   ]
  },
  {
   "cell_type": "code",
   "execution_count": 495,
   "id": "4865e109-dc8a-433d-85fa-911a3c271fa7",
   "metadata": {},
   "outputs": [
    {
     "name": "stdout",
     "output_type": "stream",
     "text": [
      "Accuracy for Training data:  0.8930\n",
      "Accuracy for Testing data:  0.8413\n"
     ]
    }
   ],
   "source": [
    "# Get accuracy for train and test data\n",
    "print(f\"Accuracy for Training data: {accuracy_score(y_train, y_predict_train): .4f}\")\n",
    "print(f\"Accuracy for Testing data: {accuracy_score(y_test, y_predict): .4f}\")"
   ]
  },
  {
   "cell_type": "code",
   "execution_count": 496,
   "id": "749dac4d-772a-48b8-bebe-36a10caf382d",
   "metadata": {},
   "outputs": [
    {
     "name": "stdout",
     "output_type": "stream",
     "text": [
      "F1 Score for Training data on Dogs:  0.9131\n",
      "F1 Score for Testing data on Dogs:  0.8708\n",
      "F1 Score for Training data on Cats:  0.8607\n",
      "F1 Score for Testing data on Cats:  0.7942\n"
     ]
    }
   ],
   "source": [
    "# Get f1 score for train and test data\n",
    "print(f\"F1 Score for Training data on Dogs: {f1_score(y_train, y_predict_train, pos_label='dogs'): .4f}\")\n",
    "print(f\"F1 Score for Testing data on Dogs: {f1_score(y_test, y_predict, pos_label='dogs'): .4f}\")\n",
    "print(f\"F1 Score for Training data on Cats: {f1_score(y_train, y_predict_train, pos_label='cats'): .4f}\")\n",
    "print(f\"F1 Score for Testing data on Cats: {f1_score(y_test, y_predict, pos_label='cats'): .4f}\")"
   ]
  },
  {
   "cell_type": "code",
   "execution_count": 497,
   "id": "9486c936-8679-41a4-96c9-f5e21cb992fa",
   "metadata": {},
   "outputs": [
    {
     "name": "stdout",
     "output_type": "stream",
     "text": [
      "Classification Report:\n",
      "               precision    recall  f1-score   support\n",
      "\n",
      "        cats       0.89      0.83      0.86      4301\n",
      "        dogs       0.90      0.93      0.91      6548\n",
      "\n",
      "    accuracy                           0.89     10849\n",
      "   macro avg       0.89      0.88      0.89     10849\n",
      "weighted avg       0.89      0.89      0.89     10849\n",
      "\n"
     ]
    }
   ],
   "source": [
    "# Print classification report for training data\n",
    "print(\"Classification Report:\\n\", classification_report(y_train, y_predict_train))"
   ]
  },
  {
   "cell_type": "code",
   "execution_count": 498,
   "id": "333dd528-6f4b-449d-8933-568ffb62c2ff",
   "metadata": {},
   "outputs": [
    {
     "name": "stdout",
     "output_type": "stream",
     "text": [
      "Classification Report:\n",
      "               precision    recall  f1-score   support\n",
      "\n",
      "        cats       0.83      0.76      0.79      1865\n",
      "        dogs       0.85      0.89      0.87      2785\n",
      "\n",
      "    accuracy                           0.84      4650\n",
      "   macro avg       0.84      0.83      0.83      4650\n",
      "weighted avg       0.84      0.84      0.84      4650\n",
      "\n"
     ]
    }
   ],
   "source": [
    "# Print classification report for test data\n",
    "print(\"Classification Report:\\n\", classification_report(y_test, y_predict))"
   ]
  },
  {
   "cell_type": "markdown",
   "id": "77671910-a256-48b2-83f5-5bd5bc96cbb4",
   "metadata": {},
   "source": [
    "## Build Bernoulli Naive Bayes Model"
   ]
  },
  {
   "cell_type": "code",
   "execution_count": 499,
   "id": "cde86aee-01a8-4eb9-b73b-5140efdca612",
   "metadata": {},
   "outputs": [],
   "source": [
    "bernoulli_NB_model = BernoulliNB()\n",
    "\n",
    "# Train model and make predictions on training and test data\n",
    "bernoulli_NB_model.fit(train_data_binary, y_train)\n",
    "\n",
    "y_predict_train_binary = bernoulli_NB_model.predict(train_data_binary)\n",
    "y_predict_binary = bernoulli_NB_model.predict(test_data_binary)"
   ]
  },
  {
   "cell_type": "code",
   "execution_count": 500,
   "id": "b77ffc7c-9789-4f89-99e5-f16220dfdce2",
   "metadata": {},
   "outputs": [
    {
     "name": "stdout",
     "output_type": "stream",
     "text": [
      "Accuracy for Training data:  0.8483\n",
      "Accuracy for Testing data:  0.7905\n"
     ]
    }
   ],
   "source": [
    "# Get accuracy for train and test data\n",
    "print(f\"Accuracy for Training data: {accuracy_score(y_train, y_predict_train_binary): .4f}\")\n",
    "print(f\"Accuracy for Testing data: {accuracy_score(y_test, y_predict_binary): .4f}\")"
   ]
  },
  {
   "cell_type": "code",
   "execution_count": 501,
   "id": "1c85cd24-6ed2-415b-94ad-d57145bc8303",
   "metadata": {},
   "outputs": [
    {
     "name": "stdout",
     "output_type": "stream",
     "text": [
      "F1 Score for Training data on Dogs:  0.8844\n",
      "F1 Score for Testing data on Dogs:  0.8414\n",
      "F1 Score for Training data on Cats:  0.7793\n",
      "F1 Score for Testing data on Cats:  0.6916\n"
     ]
    }
   ],
   "source": [
    "# Get f1 score for train and test data\n",
    "print(f\"F1 Score for Training data on Dogs: {f1_score(y_train, y_predict_train_binary, pos_label='dogs'): .4f}\")\n",
    "print(f\"F1 Score for Testing data on Dogs: {f1_score(y_test, y_predict_binary, pos_label='dogs'): .4f}\")\n",
    "print(f\"F1 Score for Training data on Cats: {f1_score(y_train, y_predict_train_binary, pos_label='cats'): .4f}\")\n",
    "print(f\"F1 Score for Testing data on Cats: {f1_score(y_test, y_predict_binary, pos_label='cats'): .4f}\")"
   ]
  },
  {
   "cell_type": "code",
   "execution_count": 502,
   "id": "19cd43cf-055f-4bbb-b514-00d468ebde0c",
   "metadata": {},
   "outputs": [
    {
     "name": "stdout",
     "output_type": "stream",
     "text": [
      "Classification Report:\n",
      "               precision    recall  f1-score   support\n",
      "\n",
      "        cats       0.92      0.68      0.78      4301\n",
      "        dogs       0.82      0.96      0.88      6548\n",
      "\n",
      "    accuracy                           0.85     10849\n",
      "   macro avg       0.87      0.82      0.83     10849\n",
      "weighted avg       0.86      0.85      0.84     10849\n",
      "\n"
     ]
    }
   ],
   "source": [
    "# Print classification report for training data\n",
    "print(\"Classification Report:\\n\", classification_report(y_train, y_predict_train_binary))"
   ]
  },
  {
   "cell_type": "code",
   "execution_count": 503,
   "id": "da482af8-a6e9-4507-93a3-60bc3ed725be",
   "metadata": {},
   "outputs": [
    {
     "name": "stdout",
     "output_type": "stream",
     "text": [
      "Classification Report:\n",
      "               precision    recall  f1-score   support\n",
      "\n",
      "        cats       0.84      0.59      0.69      1865\n",
      "        dogs       0.77      0.93      0.84      2785\n",
      "\n",
      "    accuracy                           0.79      4650\n",
      "   macro avg       0.81      0.76      0.77      4650\n",
      "weighted avg       0.80      0.79      0.78      4650\n",
      "\n"
     ]
    }
   ],
   "source": [
    "# Print classification report for test data\n",
    "print(\"Classification Report:\\n\", classification_report(y_test, y_predict_binary))"
   ]
  },
  {
   "cell_type": "markdown",
   "id": "c28ee633-b3fa-49ec-86b2-6ab988f98e32",
   "metadata": {},
   "source": [
    "## Build Complement Naive Bayes Model"
   ]
  },
  {
   "cell_type": "code",
   "execution_count": 504,
   "id": "6f2c96af-d99c-459a-80f8-0feeb9c5a09c",
   "metadata": {},
   "outputs": [],
   "source": [
    "complement_NB_model = ComplementNB()\n",
    "\n",
    "# Train model and make predictions on training and test data\n",
    "complement_NB_model.fit(train_data, y_train)\n",
    "\n",
    "y_predict_train_complement = complement_NB_model.predict(train_data)\n",
    "y_predict_complement = complement_NB_model.predict(test_data)"
   ]
  },
  {
   "cell_type": "code",
   "execution_count": 505,
   "id": "ee4f7d28-ccda-4798-ba2e-08dccdaf9c34",
   "metadata": {},
   "outputs": [
    {
     "name": "stdout",
     "output_type": "stream",
     "text": [
      "Accuracy for Training data:  0.8944\n",
      "Accuracy for Testing data:  0.8394\n"
     ]
    }
   ],
   "source": [
    "# Get accuracy for train and test data\n",
    "print(f\"Accuracy for Training data: {accuracy_score(y_train, y_predict_train_complement): .4f}\")\n",
    "print(f\"Accuracy for Testing data: {accuracy_score(y_test, y_predict_complement): .4f}\")"
   ]
  },
  {
   "cell_type": "code",
   "execution_count": 506,
   "id": "19aa95d1-2a59-40f4-b7ee-e9507ec195e3",
   "metadata": {},
   "outputs": [
    {
     "name": "stdout",
     "output_type": "stream",
     "text": [
      "F1 Score for Training data on Dogs:  0.9130\n",
      "F1 Score for Testing data on Dogs:  0.8672\n",
      "F1 Score for Training data on Cats:  0.8656\n",
      "F1 Score for Testing data on Cats:  0.7967\n"
     ]
    }
   ],
   "source": [
    "# Get f1 score for train and test data\n",
    "print(f\"F1 Score for Training data on Dogs: {f1_score(y_train, y_predict_train_complement, pos_label='dogs'): .4f}\")\n",
    "print(f\"F1 Score for Testing data on Dogs: {f1_score(y_test, y_predict_complement, pos_label='dogs'): .4f}\")\n",
    "print(f\"F1 Score for Training data on Cats: {f1_score(y_train, y_predict_train_complement, pos_label='cats'): .4f}\")\n",
    "print(f\"F1 Score for Testing data on Cats: {f1_score(y_test, y_predict_complement, pos_label='cats'): .4f}\")"
   ]
  },
  {
   "cell_type": "code",
   "execution_count": 507,
   "id": "280f6550-f438-48d6-887f-af9b04e82bae",
   "metadata": {},
   "outputs": [
    {
     "name": "stdout",
     "output_type": "stream",
     "text": [
      "Classification Report:\n",
      "               precision    recall  f1-score   support\n",
      "\n",
      "        cats       0.87      0.86      0.87      4301\n",
      "        dogs       0.91      0.92      0.91      6548\n",
      "\n",
      "    accuracy                           0.89     10849\n",
      "   macro avg       0.89      0.89      0.89     10849\n",
      "weighted avg       0.89      0.89      0.89     10849\n",
      "\n"
     ]
    }
   ],
   "source": [
    "# Print classification report for training data\n",
    "print(\"Classification Report:\\n\", classification_report(y_train, y_predict_train_complement))"
   ]
  },
  {
   "cell_type": "code",
   "execution_count": 508,
   "id": "12c9ce59-d6f0-44fd-9700-c66d2a27bdd4",
   "metadata": {},
   "outputs": [
    {
     "name": "stdout",
     "output_type": "stream",
     "text": [
      "Classification Report:\n",
      "               precision    recall  f1-score   support\n",
      "\n",
      "        cats       0.81      0.78      0.80      1865\n",
      "        dogs       0.86      0.88      0.87      2785\n",
      "\n",
      "    accuracy                           0.84      4650\n",
      "   macro avg       0.83      0.83      0.83      4650\n",
      "weighted avg       0.84      0.84      0.84      4650\n",
      "\n"
     ]
    }
   ],
   "source": [
    "# Print classification report for test data\n",
    "print(\"Classification Report:\\n\", classification_report(y_test, y_predict_complement))"
   ]
  },
  {
   "cell_type": "markdown",
   "id": "d6c95a9c-b2df-46b9-80e2-162ec875ff6f",
   "metadata": {},
   "source": [
    "## Conclusions From Comparing the 3 Naive Bayes Models\n",
    "- Multinomial and Complement Naive Bayes performs better than Bernoulli Naive Bayes given the higher accuracy scores\n",
    "- This is to be expected since Multinomial and Complement accounts for the frequency of the words in each document(i.e. sentence) whereas Bernoulli only accounts for the presence or absence of words in each document(1 indicates presence of word in sentence, 0 indicates absence of word insentence)"
   ]
  }
 ],
 "metadata": {
  "kernelspec": {
   "display_name": "Python 3 (ipykernel)",
   "language": "python",
   "name": "python3"
  },
  "language_info": {
   "codemirror_mode": {
    "name": "ipython",
    "version": 3
   },
   "file_extension": ".py",
   "mimetype": "text/x-python",
   "name": "python",
   "nbconvert_exporter": "python",
   "pygments_lexer": "ipython3",
   "version": "3.12.5"
  }
 },
 "nbformat": 4,
 "nbformat_minor": 5
}
